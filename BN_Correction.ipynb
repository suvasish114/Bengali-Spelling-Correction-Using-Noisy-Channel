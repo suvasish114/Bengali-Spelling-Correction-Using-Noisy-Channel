{
  "nbformat": 4,
  "nbformat_minor": 0,
  "metadata": {
    "colab": {
      "provenance": [],
      "mount_file_id": "1kKuL3rwvjRUX4rzoimZcrQlpicRPZci6",
      "authorship_tag": "ABX9TyP56mWXkBeInL1t8kKxyPuO"
    },
    "kernelspec": {
      "name": "python3",
      "display_name": "Python 3"
    },
    "language_info": {
      "name": "python"
    }
  },
  "cells": [
    {
      "cell_type": "markdown",
      "source": [
        "# Bengali Spelling Correction Using Noisy Chennel"
      ],
      "metadata": {
        "id": "Azou7fJ9iHF8"
      }
    },
    {
      "cell_type": "markdown",
      "source": [
        "TODO\n",
        "```\n",
        "[x] Generate Candidate Words\n",
        "[x] Minimum Edit Distance\n",
        "[x] Confusion Matrix\n",
        "[x] Find Prior Prob\n",
        "[x] Find Chennel Prob\n",
        "[x] Smoothing\n",
        "[x] Final Estimation (Real World)\n",
        "```"
      ],
      "metadata": {
        "id": "2sXKMHmfmZpO"
      }
    },
    {
      "cell_type": "code",
      "source": [
        "!pip install https://github.com/kpu/kenlm/archive/master.zip"
      ],
      "metadata": {
        "colab": {
          "base_uri": "https://localhost:8080/"
        },
        "id": "F0Z8Q4a2sMvm",
        "outputId": "87400ac3-2ca4-42aa-fec4-4d92ccc7b8ec"
      },
      "execution_count": null,
      "outputs": [
        {
          "output_type": "stream",
          "name": "stdout",
          "text": [
            "Collecting https://github.com/kpu/kenlm/archive/master.zip\n",
            "  Downloading https://github.com/kpu/kenlm/archive/master.zip\n",
            "\u001b[2K     \u001b[32m-\u001b[0m \u001b[32m553.6 kB\u001b[0m \u001b[31m11.5 MB/s\u001b[0m \u001b[33m0:00:00\u001b[0m\n",
            "\u001b[?25h  Installing build dependencies ... \u001b[?25l\u001b[?25hdone\n",
            "  Getting requirements to build wheel ... \u001b[?25l\u001b[?25hdone\n",
            "  Preparing metadata (pyproject.toml) ... \u001b[?25l\u001b[?25hdone\n",
            "Building wheels for collected packages: kenlm\n",
            "  Building wheel for kenlm (pyproject.toml) ... \u001b[?25l\u001b[?25hdone\n",
            "  Created wheel for kenlm: filename=kenlm-0.2.0-cp310-cp310-linux_x86_64.whl size=3184345 sha256=f91cd2d79fe68cc467131b33d22c812021947f98f3e2b8b83b7957f04ede8403\n",
            "  Stored in directory: /tmp/pip-ephem-wheel-cache-yirztd7s/wheels/a5/73/ee/670fbd0cee8f6f0b21d10987cb042291e662e26e1a07026462\n",
            "Successfully built kenlm\n",
            "Installing collected packages: kenlm\n",
            "Successfully installed kenlm-0.2.0\n"
          ]
        }
      ]
    },
    {
      "cell_type": "code",
      "source": [
        "# PATHS\n",
        "bn_characters   = \"/content/drive/MyDrive/Spelling_Correction_Using_Noisy_Channel_Resources/bangla_datasets/bn_characters.txt\"\n",
        "bn_digits       = \"/content/drive/MyDrive/Spelling_Correction_Using_Noisy_Channel_Resources/bangla_datasets/bn_digits.txt\"\n",
        "bn_sentences    = \"/content/drive/MyDrive/Spelling_Correction_Using_Noisy_Channel_Resources/bangla_datasets/bn_sentences.txt\"\n",
        "bn_dictionary   = \"/content/drive/MyDrive/Spelling_Correction_Using_Noisy_Channel_Resources/bangla_datasets/bn_dictionary.txt\"\n",
        "bn_arpa         = \"/content/drive/MyDrive/Spelling_Correction_Using_Noisy_Channel_Resources/bangla_datasets/text.arpa\"\n",
        "bn_del_path     = \"/content/drive/MyDrive/Spelling_Correction_Using_Noisy_Channel_Resources/bangla_datasets/bn_del.txt\"\n",
        "bn_ins_path     = \"/content/drive/MyDrive/Spelling_Correction_Using_Noisy_Channel_Resources/bangla_datasets/bn_ins.txt\"\n",
        "bn_sub_path     = \"/content/drive/MyDrive/Spelling_Correction_Using_Noisy_Channel_Resources/bangla_datasets/bn_sub.txt\""
      ],
      "metadata": {
        "id": "JGvJxjAci4zg"
      },
      "execution_count": null,
      "outputs": []
    },
    {
      "cell_type": "code",
      "source": [
        "# IMPORTS\n",
        "import time\n",
        "import numpy as np\n",
        "import nltk\n",
        "import kenlm\n",
        "from nltk.util import ngrams\n",
        "from collections import Counter"
      ],
      "metadata": {
        "id": "p6P3cijOlMP0"
      },
      "execution_count": null,
      "outputs": []
    },
    {
      "cell_type": "code",
      "source": [
        "# KENLM MODEL OBJECT\n",
        "kenlm_model = kenlm.Model(bn_arpa)"
      ],
      "metadata": {
        "id": "h__zcGoqselM"
      },
      "execution_count": null,
      "outputs": []
    },
    {
      "cell_type": "code",
      "source": [
        "# REQUIRED LIBRARY (one time)\n",
        "nltk.download(\"punkt\")"
      ],
      "metadata": {
        "colab": {
          "base_uri": "https://localhost:8080/"
        },
        "id": "GiKGTtdPnnLz",
        "outputId": "4cbb88be-d132-4907-8c5f-c6d79d89a91b"
      },
      "execution_count": null,
      "outputs": [
        {
          "output_type": "stream",
          "name": "stderr",
          "text": [
            "[nltk_data] Downloading package punkt to /root/nltk_data...\n",
            "[nltk_data]   Package punkt is already up-to-date!\n"
          ]
        },
        {
          "output_type": "execute_result",
          "data": {
            "text/plain": [
              "True"
            ]
          },
          "metadata": {},
          "execution_count": 124
        }
      ]
    },
    {
      "cell_type": "markdown",
      "source": [
        "## 1. Generate Candidate Words"
      ],
      "metadata": {
        "id": "dnv4dOfuiM2c"
      }
    },
    {
      "cell_type": "code",
      "execution_count": null,
      "metadata": {
        "colab": {
          "base_uri": "https://localhost:8080/"
        },
        "id": "Am5SQllBiBlW",
        "outputId": "d0fff425-9393-42bd-e8d8-edc2cdf1ab83"
      },
      "outputs": [
        {
          "output_type": "stream",
          "name": "stdout",
          "text": [
            "['ঀ', 'ঁ', 'ং', 'ঃ', 'অ', 'আ', 'ই', 'ঈ', 'উ', 'ঊ', 'ঋ', 'ঌ', 'এ', 'ঐ', 'ও', 'ঔ', 'ক', 'খ', 'গ', 'ঘ', 'ঙ', 'চ', 'ছ', 'জ', 'ঝ', 'ঞ', 'ট', 'ঠ', 'ড', 'ঢ', 'ণ', 'ত', 'থ', 'দ', 'ধ', 'ন', 'প', 'ফ', 'ব', 'ভ', 'ম', 'য', 'র', 'ল', 'শ', 'ষ', 'স', 'হ', '়', 'ঽ', 'া', 'ি', 'ী', 'ু', 'ূ', 'ৃ', 'ৄ', 'ে', 'ৈ', 'ো', 'ৌ', '্', 'ৎ', 'ৗ', 'ড়', 'ঢ়', 'য়', 'ৠ', 'ৡ', '০', '১', '২', '৩', '৪', '৫', '৬', '৭', '৮', '৯', 'ৰ', 'ৱ', '৲', '৳', '৴', '৵', '৶', '৷', '৸', '৹', '৺', '৻', 'ৼ', '৽', '৾', '']\n"
          ]
        }
      ],
      "source": [
        "# GET ALPHABETS\n",
        "with open(bn_characters, \"r\") as file:\n",
        "    characters = file.read().split(\"\\t\")\n",
        "print(characters)"
      ]
    },
    {
      "cell_type": "code",
      "source": [
        "# VALUE INDEX PAIR OF CHARACTERS\n",
        "char_lookup = dict(zip(characters, list(range(len(characters)))))\n",
        "\n",
        "# TEST\n",
        "char_lookup[\"ই\"]"
      ],
      "metadata": {
        "colab": {
          "base_uri": "https://localhost:8080/"
        },
        "id": "dxn3UvOE7ODb",
        "outputId": "6a48baaf-4daa-4e16-db69-1462ef5164db"
      },
      "execution_count": null,
      "outputs": [
        {
          "output_type": "execute_result",
          "data": {
            "text/plain": [
              "6"
            ]
          },
          "metadata": {},
          "execution_count": 126
        }
      ]
    },
    {
      "cell_type": "code",
      "source": [
        "# GET DIGITS\n",
        "with open(bn_digits, \"r\") as file:\n",
        "    digits = file.read().split(\"\\t\")\n",
        "print(digits)"
      ],
      "metadata": {
        "colab": {
          "base_uri": "https://localhost:8080/"
        },
        "id": "5Xug9q-EkLO_",
        "outputId": "e621f0cc-a796-475e-f7f6-d0a70367f58d"
      },
      "execution_count": null,
      "outputs": [
        {
          "output_type": "stream",
          "name": "stdout",
          "text": [
            "['০', '১', '২', '৩', '৪', '৫', '৬', '৭', '৮', '৯']\n"
          ]
        }
      ]
    },
    {
      "cell_type": "code",
      "source": [
        "# ALPAHBETS\n",
        "bn_alphabets = characters + digits\n",
        "print(bn_alphabets)"
      ],
      "metadata": {
        "colab": {
          "base_uri": "https://localhost:8080/"
        },
        "id": "3VSIo4BBkecE",
        "outputId": "13de0eab-1404-4071-aa6c-475ed6726bce"
      },
      "execution_count": null,
      "outputs": [
        {
          "output_type": "stream",
          "name": "stdout",
          "text": [
            "['ঀ', 'ঁ', 'ং', 'ঃ', 'অ', 'আ', 'ই', 'ঈ', 'উ', 'ঊ', 'ঋ', 'ঌ', 'এ', 'ঐ', 'ও', 'ঔ', 'ক', 'খ', 'গ', 'ঘ', 'ঙ', 'চ', 'ছ', 'জ', 'ঝ', 'ঞ', 'ট', 'ঠ', 'ড', 'ঢ', 'ণ', 'ত', 'থ', 'দ', 'ধ', 'ন', 'প', 'ফ', 'ব', 'ভ', 'ম', 'য', 'র', 'ল', 'শ', 'ষ', 'স', 'হ', '়', 'ঽ', 'া', 'ি', 'ী', 'ু', 'ূ', 'ৃ', 'ৄ', 'ে', 'ৈ', 'ো', 'ৌ', '্', 'ৎ', 'ৗ', 'ড়', 'ঢ়', 'য়', 'ৠ', 'ৡ', '০', '১', '২', '৩', '৪', '৫', '৬', '৭', '৮', '৯', 'ৰ', 'ৱ', '৲', '৳', '৴', '৵', '৶', '৷', '৸', '৹', '৺', '৻', 'ৼ', '৽', '৾', '', '০', '১', '২', '৩', '৪', '৫', '৬', '৭', '৮', '৯']\n"
          ]
        }
      ]
    },
    {
      "cell_type": "code",
      "source": [
        "# READ DICTIONARY\n",
        "with open(bn_dictionary, \"r\") as file:\n",
        "    bn_dictionary = file.read().split(\"\\t\")\n",
        "\n",
        "# TEST\n",
        "bn_dictionary[:10]"
      ],
      "metadata": {
        "colab": {
          "base_uri": "https://localhost:8080/"
        },
        "id": "V1GpKmyKlZYV",
        "outputId": "48ba5c9e-db7d-4582-bbb5-21927adc317d"
      },
      "execution_count": null,
      "outputs": [
        {
          "output_type": "execute_result",
          "data": {
            "text/plain": [
              "['পাবনার',\n",
              " 'সুজানগর',\n",
              " 'পৌরসভার',\n",
              " 'মসজিদপাড়া',\n",
              " 'জামে',\n",
              " 'মসজিদের',\n",
              " 'নতুন',\n",
              " 'ভবন',\n",
              " 'নির্মাণকে',\n",
              " 'কেন্দ্র']"
            ]
          },
          "metadata": {},
          "execution_count": 129
        }
      ]
    },
    {
      "cell_type": "code",
      "source": [
        "# FIND ALL CANDIDATES\n",
        "def find_candidate_words(word):                     # get candidate words with single transformation\n",
        "    ''' Find all candidate words for given misspelled word by using {insetion, deletion, transpose, substitution}\n",
        "    Args:   word (string) = misspelled word\n",
        "    Return: (list) a list containing all candidate words '''\n",
        "    candidate_words = []\n",
        "    for char in bn_alphabets:\n",
        "        for idx in range(len(word)+1):              # Insert candidate\n",
        "            candidate_words.append(word[:idx]+char+word[idx:])\n",
        "        for idx in range(len(word)):                # Substitution candidate\n",
        "            candidate_words.append(word[:idx]+char+word[idx+1:])\n",
        "    for idx in range(len(word)):                    # Deletion candidate\n",
        "        candidate_words.append(word[:idx]+word[idx+1:])\n",
        "    if(len(word)>1):                                # Transpose candidate\n",
        "        for idx in range(len(word)-1):\n",
        "            candidate_words.append(word[:idx]+word[idx+1]+word[idx]+word[idx+2:])\n",
        "    return candidate_words"
      ],
      "metadata": {
        "id": "tazE5Zp6k33J"
      },
      "execution_count": null,
      "outputs": []
    },
    {
      "cell_type": "code",
      "source": [
        "# FIND VALID CANDIDATES\n",
        "def find_valid_candidates(word, med):    # single edit distance candidates\n",
        "    ''' Fina all candidates within given edit distance\n",
        "        Args:   word: (string) error word\n",
        "                med: (int) minimum edit distance\n",
        "        Return: (list) all valid candidate words '''\n",
        "\n",
        "    candidates = []\n",
        "    candidate_words = find_candidate_words(word)    # for edit distance 1 (initial)\n",
        "    for i in range(med-1):                          # for edit distance > 1\n",
        "        for candidate_word in candidate_words:\n",
        "            candidate_words = set(find_candidate_words(candidate_word)).union(candidate_words)\n",
        "    valid_candidates = list(set(candidate_words).intersection(set(bn_dictionary))) # match all generated candidate words with dictionary\n",
        "    return valid_candidates"
      ],
      "metadata": {
        "id": "ktzZfIodlD5D"
      },
      "execution_count": null,
      "outputs": []
    },
    {
      "cell_type": "code",
      "source": [
        "# TEST\n",
        "starttime = time.time()\n",
        "_temp = \"কেন্দ্র\"\n",
        "candidates = find_valid_candidates(_temp, 1)\n",
        "print(f\"Original word: {_temp}\")\n",
        "print(candidates)\n",
        "print(f'{(time.time()-starttime)*10**3} ms')"
      ],
      "metadata": {
        "colab": {
          "base_uri": "https://localhost:8080/"
        },
        "id": "irzZWGbNlGIx",
        "outputId": "6ffa5015-e87e-48e7-8684-e93312d0856c"
      },
      "execution_count": null,
      "outputs": [
        {
          "output_type": "stream",
          "name": "stdout",
          "text": [
            "Original word: কেন্দ্র\n",
            "['সেন্দ্র', 'কেন্দ্রী', 'কেন্দ্রই', 'কেন্দের', 'কেন্দ্রি', 'কেন্দ্র', 'কেন্দ্রে', 'কেন্দ্রও', 'কেন্দ্রর']\n",
            "1733.8333129882812 ms\n"
          ]
        }
      ]
    },
    {
      "cell_type": "markdown",
      "source": [
        "## 2. Minimum Edit Distance"
      ],
      "metadata": {
        "id": "Sckd6P7omMh2"
      }
    },
    {
      "cell_type": "code",
      "source": [
        "def get_minimum_edit_distance(s1, s2):\n",
        "    ''' Calculate the minimum edit distance between two strings\n",
        "        Args:   s1 (string) = first string; error word\n",
        "                s2 (string) = second string; candidate word\n",
        "        Return: (int) minimum edit distance to transform from s1 to s2,\n",
        "                (2D numpy array) calculated cost matrix '''\n",
        "\n",
        "    m = len(s1)                         # length of source string\n",
        "    n = len(s2)                         # length of target string\n",
        "    mat = np.zeros((m+1, n+1))          # 2D array of dimention (n+1 X m+1) filled with 0's\n",
        "\n",
        "    for i in range(1, m+1):             # Initializing row 1\n",
        "        mat[i, 0] = mat[i-1, 0] + 1\n",
        "    for j in range(1, n+1):             # Initializing column 1\n",
        "        mat[0, j] = mat[0, j-1] + 1\n",
        "\n",
        "    # Iteration\n",
        "    for i in range(1, m+1):\n",
        "        for j in range(1, n+1):\n",
        "            sc = 2 if s1[i-1] != s2[j-1] else 0\n",
        "            cost = min([mat[i-1, j] + 1,        # deletion\n",
        "                        mat[i, j-1] + 1,        # insertion\n",
        "                        mat[i-1, j-1] + sc])    # substitution\n",
        "            mat[i, j] = cost                    # update cost\n",
        "\n",
        "    return int(mat[-1,-1]), mat"
      ],
      "metadata": {
        "id": "sRAv-WpBmVGG"
      },
      "execution_count": null,
      "outputs": []
    },
    {
      "cell_type": "code",
      "source": [
        "def get_edit_sequence(s, d):\n",
        "    ''' Calculate edit sequence from the given correct word and typo\n",
        "    Args:   s: (string) typo or source word\n",
        "            d: (string) candidate or destination word\n",
        "    Return: (list) sequence of transformation in reversed order <transformation> <source> <destination> '''\n",
        "\n",
        "    _, m = get_minimum_edit_distance(s, d)\n",
        "    s = '#' + s\n",
        "    d = '#' + d\n",
        "    sequence = list()\n",
        "    i, j = len(s)-1, len(d)-1\n",
        "    while True:\n",
        "        if i>0 and j>0:     # diagonal element present\n",
        "            if m[i,j] == m[i-1,j-1] and s[i] == d[j]:\n",
        "                sequence.append('')\n",
        "                i -= 1\n",
        "                j -= 1\n",
        "            elif m[i,j] == m[i-1,j-1]+2 and s[i] != d[j]:\n",
        "                sequence.append('s'+d[j]+s[i])\n",
        "                i -= 1\n",
        "                j -= 1\n",
        "            elif m[i,j] == m[i-1,j]+1:\n",
        "                sequence.append('d'+d[j]+s[i])\n",
        "                i -= 1\n",
        "            else:\n",
        "                sequence.append('i'+d[j]+s[i])\n",
        "                j -= 1\n",
        "        elif i==0 and j==0:\n",
        "            break\n",
        "        elif i == 0:\n",
        "            sequence.append('i'+d[j]+s[i])\n",
        "            j -= 1\n",
        "        elif j == 0:\n",
        "            sequence.append('d'+d[j]+s[i])\n",
        "            i -= 1\n",
        "    return sequence # [<type>,<destination>,<source>]"
      ],
      "metadata": {
        "id": "39PV0s0ansZr"
      },
      "execution_count": null,
      "outputs": []
    },
    {
      "cell_type": "code",
      "source": [
        "# TEST\n",
        "s = \"কলকাতা\"\n",
        "d = \"কলিকাতা\"\n",
        "get_edit_sequence(s, d)"
      ],
      "metadata": {
        "colab": {
          "base_uri": "https://localhost:8080/"
        },
        "id": "9wGW2TNen1KW",
        "outputId": "d542653f-40f8-4fb3-dbcb-05819f3ff967"
      },
      "execution_count": null,
      "outputs": [
        {
          "output_type": "execute_result",
          "data": {
            "text/plain": [
              "['', '', '', '', 'iিল', '', '']"
            ]
          },
          "metadata": {},
          "execution_count": 135
        }
      ]
    },
    {
      "cell_type": "markdown",
      "source": [
        "## 3. Confusion Matrix"
      ],
      "metadata": {
        "id": "wYUEqz8zovTp"
      }
    },
    {
      "cell_type": "code",
      "source": [
        "# INS MATRIX\n",
        "bn_ins = list()\n",
        "with open(bn_ins_path, \"r\") as file:\n",
        "    temp = file.read().split(\"\\n\")\n",
        "    for t in temp:\n",
        "        bn_ins.append(t.split(\" \"))"
      ],
      "metadata": {
        "id": "2U10Fd-mpa8X"
      },
      "execution_count": null,
      "outputs": []
    },
    {
      "cell_type": "code",
      "source": [
        "# INS MATRIX\n",
        "bn_del = list()\n",
        "with open(bn_del_path, \"r\") as file:\n",
        "    temp = file.read().split(\"\\n\")\n",
        "    for t in temp:\n",
        "        bn_del.append(t.split(\" \"))"
      ],
      "metadata": {
        "id": "xpe4OzJ7q0m-"
      },
      "execution_count": null,
      "outputs": []
    },
    {
      "cell_type": "code",
      "source": [
        "# INS MATRIX\n",
        "bn_sub = list()\n",
        "with open(bn_sub_path, \"r\") as file:\n",
        "    temp = file.read().split(\"\\n\")\n",
        "    for t in temp:\n",
        "        bn_sub.append(t.split(\" \"))"
      ],
      "metadata": {
        "id": "Z8jYBW07rfP5"
      },
      "execution_count": null,
      "outputs": []
    },
    {
      "cell_type": "code",
      "source": [
        "# TEST\n",
        "for a in bn_ins:\n",
        "    for b in a:\n",
        "        print(b, end=\" \")\n",
        "    print()"
      ],
      "metadata": {
        "id": "nMbVcEyQrqn9"
      },
      "execution_count": null,
      "outputs": []
    },
    {
      "cell_type": "markdown",
      "source": [
        "## 4. Prior Probability"
      ],
      "metadata": {
        "id": "FDmaw3-drujL"
      }
    },
    {
      "cell_type": "code",
      "source": [
        "# REMOVE PUNCHUATIONS\n",
        "import string\n",
        "strip_chars = string.punctuation\n",
        "def remove_punc(sentence):\n",
        "    return sentence.translate(str.maketrans('', '', string.punctuation)).lower()"
      ],
      "metadata": {
        "id": "p5C7dZp2uQqa"
      },
      "execution_count": null,
      "outputs": []
    },
    {
      "cell_type": "code",
      "source": [
        "# RETURNS UNIGRAM SCORE\n",
        "def get_score(s):\n",
        "    return [10**prob for prob, _, _ in kenlm_model.full_scores(remove_punc(s), bos=False, eos=False)]"
      ],
      "metadata": {
        "id": "3eIdkd5Cr8v3"
      },
      "execution_count": null,
      "outputs": []
    },
    {
      "cell_type": "code",
      "source": [
        "get_score(\"আমার নাম, শুভাশীষ\")"
      ],
      "metadata": {
        "colab": {
          "base_uri": "https://localhost:8080/"
        },
        "id": "ojfSI6bCtP2q",
        "outputId": "433c0e9e-f2f0-467b-f6b0-3e7f4e1ab14c"
      },
      "execution_count": null,
      "outputs": [
        {
          "output_type": "execute_result",
          "data": {
            "text/plain": [
              "[0.0005424991727568429, 0.005281700737824817, 5.67493131376058e-07]"
            ]
          },
          "metadata": {},
          "execution_count": 142
        }
      ]
    },
    {
      "cell_type": "code",
      "source": [
        "def prior_prob(word):   # SMOOTHED PRIOR PROBABILITY\n",
        "    return 10**kenlm_model.score(remove_punc(word), bos=False, eos=False)"
      ],
      "metadata": {
        "id": "59WI32dO2MAu"
      },
      "execution_count": null,
      "outputs": []
    },
    {
      "cell_type": "markdown",
      "source": [
        "## 5. Channel Probability"
      ],
      "metadata": {
        "id": "kRFTm2Oxux-S"
      }
    },
    {
      "cell_type": "code",
      "source": [
        "# READ ALL SENTENCES\n",
        "with open(bn_sentences, \"r\") as file:\n",
        "    sentences = file.read().split(\"\\n\")\n",
        "\n",
        "# TEST\n",
        "sentences[:5]"
      ],
      "metadata": {
        "colab": {
          "base_uri": "https://localhost:8080/"
        },
        "id": "dx44hRKh4qtM",
        "outputId": "13aafed9-8e72-4d3d-e30e-64ba9d20c361"
      },
      "execution_count": null,
      "outputs": [
        {
          "output_type": "execute_result",
          "data": {
            "text/plain": [
              "['',\n",
              " 'বিশ্বজিত্ বলেন, ‘এই সময় হ্যান্ড মাইকে তিনি পুলিশের কথা শুনতে পান',\n",
              " 'এর আগে মঙ্গলবার লে.কর্নেল আবুল কালাম আজাদের পরীক্ষা-নীরিক্ষার রিপোর্ট চিকিৎসকদের বোর্ড পর্যালোচনা করে',\n",
              " 'বিমানের চিফ অব টেকনিক্যাল ক্যাপ্টেন ফজল মাহমুদ চৌধুরীর নেতৃত্বে ৪ সদস্যের কমিটির অপর সদস্যরা হলেন- চিফ অব ফ্লাইট সেফটি ক্যাপ্টেন সোয়েব চৌধুরী, ডেপুটি চিফ অব ইঞ্জিনিয়ার মোহাম্মদ হানিফ ও ম্যানেজার (কোয়ালিটি অ্যাসুরেন্স) নিরঞ্জন রায়',\n",
              " 'জেলার ভোগড়ায় বিআরটি প্রকল্পের কাজ পরিদর্শন শেষে সাংবাদিকদের বিভিন্ন প্রশ্নের জবাবে তিনি এ কথা বলেন']"
            ]
          },
          "metadata": {},
          "execution_count": 144
        }
      ]
    },
    {
      "cell_type": "code",
      "source": [
        "# COUNT MATRIX\n",
        "def get_count(lexem):\n",
        "    unigram_count = dict()\n",
        "    bigram_count = dict()\n",
        "    for sentence in sentences:\n",
        "        bigrams = [\"\".join(a) for a in list(ngrams(lexem, n=2))]\n",
        "        unigrams = [\"\".join(a) for a in list(ngrams(lexem, n=1))]\n",
        "        bcount = Counter(bigrams)\n",
        "        ucount = Counter(unigrams)\n",
        "\n",
        "        for key in bcount:  # Count all bigrams\n",
        "            try:\n",
        "                bigram_count[key] += bcount[key]\n",
        "            except:\n",
        "                bigram_count[key] = bcount[key]\n",
        "\n",
        "        for key in ucount:  # count all unigrams\n",
        "            try:\n",
        "                unigram_count[key] += ucount[key]\n",
        "            except:\n",
        "                unigram_count[key] = ucount[key]\n",
        "\n",
        "    return unigram_count, bigram_count"
      ],
      "metadata": {
        "id": "_clU2RNctcg7"
      },
      "execution_count": null,
      "outputs": []
    },
    {
      "cell_type": "code",
      "source": [
        "get_count(\"কলিকাতা\")"
      ],
      "metadata": {
        "colab": {
          "base_uri": "https://localhost:8080/"
        },
        "id": "DZu_DB1754aj",
        "outputId": "aa55a017-756d-430c-da60-dcd779b86c73"
      },
      "execution_count": null,
      "outputs": [
        {
          "output_type": "execute_result",
          "data": {
            "text/plain": [
              "({'ক': 1480742, 'ল': 740371, 'ি': 740371, 'া': 1480742, 'ত': 740371},\n",
              " {'কল': 740371,\n",
              "  'লি': 740371,\n",
              "  'িক': 740371,\n",
              "  'কা': 740371,\n",
              "  'াত': 740371,\n",
              "  'তা': 740371})"
            ]
          },
          "metadata": {},
          "execution_count": 146
        }
      ]
    },
    {
      "cell_type": "code",
      "source": [
        "# CHAR PROBAIBLITY\n",
        "def char_probability(x, y, type):\n",
        "    if x == \"#\":\n",
        "        xi = -1\n",
        "    else:\n",
        "        xi = char_lookup[x]\n",
        "\n",
        "    if y == \"#\":\n",
        "        yi = -1\n",
        "    else:\n",
        "        yi = char_lookup[y]\n",
        "\n",
        "    # print(f\"{type}({xi},{yi})\")\n",
        "    uni_count, bi_count = get_count(x+y)\n",
        "    if type.lower() == \"d\":\n",
        "        return int(bn_del[xi][yi])/int(bi_count[x+y])\n",
        "    elif type.lower() == \"i\":\n",
        "        return int(bn_ins[yi][xi])/int(uni_count[y])\n",
        "    elif type.lower() == \"s\":\n",
        "        return int(bn_sub[xi][yi])/int(uni_count[y])\n",
        "    return -1"
      ],
      "metadata": {
        "id": "nveA6v286L2d"
      },
      "execution_count": null,
      "outputs": []
    },
    {
      "cell_type": "code",
      "source": [
        "char_probability(\"ক\",\"ত\",\"s\")"
      ],
      "metadata": {
        "colab": {
          "base_uri": "https://localhost:8080/"
        },
        "id": "0OIN0DWR6bNP",
        "outputId": "be39513f-df1b-4d0e-d3fb-6b4313703c53"
      },
      "execution_count": null,
      "outputs": [
        {
          "output_type": "execute_result",
          "data": {
            "text/plain": [
              "1.35067418902145e-05"
            ]
          },
          "metadata": {},
          "execution_count": 149
        }
      ]
    },
    {
      "cell_type": "code",
      "source": [
        "# CHANNEL PROBABILITY\n",
        "def get_channel_probability(word, candidate):\n",
        "    edit_sequence = get_edit_sequence(word, candidate)\n",
        "    probability = 0\n",
        "    for sequence in edit_sequence:\n",
        "        if sequence != '':\n",
        "            sequence_list = list(sequence)\n",
        "            probability += char_probability(sequence_list[2], sequence_list[1], sequence_list[0])\n",
        "    return probability"
      ],
      "metadata": {
        "id": "K9zbTqm78LUI"
      },
      "execution_count": null,
      "outputs": []
    },
    {
      "cell_type": "code",
      "source": [
        "# TEST\n",
        "s = \"কলকাতা\"\n",
        "d = \"কলিকাতা\"\n",
        "get_channel_probability(s,d)"
      ],
      "metadata": {
        "colab": {
          "base_uri": "https://localhost:8080/"
        },
        "id": "8E0sRE_p85DK",
        "outputId": "47a0dd32-5d6d-45c8-8d23-3ab8262cd667"
      },
      "execution_count": null,
      "outputs": [
        {
          "output_type": "execute_result",
          "data": {
            "text/plain": [
              "4.0520225670643505e-06"
            ]
          },
          "metadata": {},
          "execution_count": 151
        }
      ]
    },
    {
      "cell_type": "markdown",
      "source": [
        "## 6. Final Estimation (real word)"
      ],
      "metadata": {
        "id": "2ZnAgaigu3Dh"
      }
    },
    {
      "cell_type": "code",
      "source": [
        "# MAKE N-GRAM\n",
        "def extract_ngrams(sentence, n):\n",
        "    n_grams = ngrams(nltk.word_tokenize(sentence), n)\n",
        "    # return [ ' '.join(grams) for grams in n_grams]\n",
        "    return [grams for grams in n_grams]"
      ],
      "metadata": {
        "id": "wI1BB_xsDl4h"
      },
      "execution_count": null,
      "outputs": []
    },
    {
      "cell_type": "code",
      "source": [
        "# TEST\n",
        "sent = \"কলিকাতা সহ দক্ষিণবঙ্গের সব জেলাতেই বৃষ্টির সঙ্গে থাকবে দমকা ঝোড়ো হাওয়া\"\n",
        "extract_ngrams(sent,2)"
      ],
      "metadata": {
        "colab": {
          "base_uri": "https://localhost:8080/"
        },
        "id": "Ovyx7MUoDu8v",
        "outputId": "1631cd89-0f4b-4693-9d85-67ee0f28102f"
      },
      "execution_count": null,
      "outputs": [
        {
          "output_type": "execute_result",
          "data": {
            "text/plain": [
              "[('কলিকাতা', 'সহ'),\n",
              " ('সহ', 'দক্ষিণবঙ্গের'),\n",
              " ('দক্ষিণবঙ্গের', 'সব'),\n",
              " ('সব', 'জেলাতেই'),\n",
              " ('জেলাতেই', 'বৃষ্টির'),\n",
              " ('বৃষ্টির', 'সঙ্গে'),\n",
              " ('সঙ্গে', 'থাকবে'),\n",
              " ('থাকবে', 'দমকা'),\n",
              " ('দমকা', 'ঝোড়ো'),\n",
              " ('ঝোড়ো', 'হাওয়া')]"
            ]
          },
          "metadata": {},
          "execution_count": 153
        }
      ]
    },
    {
      "cell_type": "code",
      "source": [
        "get_score(sent)"
      ],
      "metadata": {
        "colab": {
          "base_uri": "https://localhost:8080/"
        },
        "id": "fncEB-PQD9He",
        "outputId": "eaa00885-25c6-426c-a194-96b47e57bf7b"
      },
      "execution_count": null,
      "outputs": [
        {
          "output_type": "execute_result",
          "data": {
            "text/plain": [
              "[5.810162642229453e-07,\n",
              " 0.00018174584975182511,\n",
              " 9.68103654932087e-07,\n",
              " 0.022797164381223846,\n",
              " 0.00018543514697413207,\n",
              " 5.196947266935102e-05,\n",
              " 0.01996643819430989,\n",
              " 0.0004856324165167078,\n",
              " 3.0672701856974783e-06,\n",
              " 8.651270801033902e-08,\n",
              " 0.22094757697193174]"
            ]
          },
          "metadata": {},
          "execution_count": 154
        }
      ]
    },
    {
      "cell_type": "code",
      "source": [
        "state = kenlm.State()\n",
        "state2 = kenlm.State()\n",
        "\n",
        "def get_lm_prob(sent):\n",
        "    accum = 0.0\n",
        "    for word in sent.split(\" \"):\n",
        "        # print(word)\n",
        "        accum += kenlm_model.BaseScore(state, word, state2)\n",
        "    return 10**accum"
      ],
      "metadata": {
        "id": "G9vrORoaFinG"
      },
      "execution_count": null,
      "outputs": []
    },
    {
      "cell_type": "code",
      "source": [
        "get_lm_prob(\"সঙ্গে থাকবে\")"
      ],
      "metadata": {
        "colab": {
          "base_uri": "https://localhost:8080/"
        },
        "id": "JzFtgVKTG4NC",
        "outputId": "b56fad06-34ff-4f51-ab4e-e7833f0327b8"
      },
      "execution_count": null,
      "outputs": [
        {
          "output_type": "stream",
          "name": "stdout",
          "text": [
            "সঙ্গে\n",
            "থাকবে\n"
          ]
        },
        {
          "output_type": "execute_result",
          "data": {
            "text/plain": [
              "5.145360019930381e-07"
            ]
          },
          "metadata": {},
          "execution_count": 156
        }
      ]
    },
    {
      "cell_type": "code",
      "source": [
        "# GENERATE ALL CANDIDATES\n",
        "def candidate_generator(sent, med):\n",
        "    '''\n",
        "    Args:   sent (str) = given sentence to check\n",
        "            med (int) = minimum edit distance to check for candidates\n",
        "    Return: (list of list) = list of candidate words according to their position '''\n",
        "    candidates = []\n",
        "    for word in remove_punc(sent).strip().split(\" \"):   # iterate through each words\n",
        "        candidates.append(find_valid_candidates(word, med))\n",
        "    return candidates"
      ],
      "metadata": {
        "id": "9URC0Y7JvC07"
      },
      "execution_count": null,
      "outputs": []
    },
    {
      "cell_type": "code",
      "source": [
        "# TEST\n",
        "candidate_generator(\"দমকা ঝোড়ো হাওয়া\", 1)"
      ],
      "metadata": {
        "colab": {
          "base_uri": "https://localhost:8080/"
        },
        "id": "8SjdJnZhHszy",
        "outputId": "f20336b2-9a7a-443d-dc6f-07d686eb391c"
      },
      "execution_count": null,
      "outputs": [
        {
          "output_type": "execute_result",
          "data": {
            "text/plain": [
              "[['দমকাল', 'দম্কা', 'দমকল', 'দমকায়', 'দেকা', 'দমকম', 'দমকা', 'অমকা'],\n",
              " ['ঝড়ো', 'ঝোড়ো'],\n",
              " ['হাওয়া',\n",
              "  'চাওয়া',\n",
              "  'দাওয়া',\n",
              "  'ধাওয়া',\n",
              "  'পাওয়া',\n",
              "  'মাওয়া',\n",
              "  'খাওয়া',\n",
              "  'হওয়া',\n",
              "  'যাওয়া',\n",
              "  'হাওয়ার']]"
            ]
          },
          "metadata": {},
          "execution_count": 177
        }
      ]
    },
    {
      "cell_type": "code",
      "source": [
        "alpha = 0.95 # config"
      ],
      "metadata": {
        "id": "lIt3spKJ-RtH"
      },
      "execution_count": null,
      "outputs": []
    },
    {
      "cell_type": "code",
      "source": [
        "# GENERATE ALL SENTENCE PROBABILITY\n",
        "def sentence_probability(sent, med):\n",
        "    candidates_list = candidate_generator(sent, med)\n",
        "    sent_prob = {}\n",
        "    for i in range(len(candidates_list)):\n",
        "        for candidate in candidates_list[i]:\n",
        "            edit_prob = alpha   # when P(w|w)\n",
        "            prior_prob = 1\n",
        "            candidate_sentence = \" \".join(sent.split()[:i]+[candidate]+sent.split()[i+1:])\n",
        "            print(\"= \"*30)      # test\n",
        "            print(candidate_sentence)   # test\n",
        "            if sent.split()[i] != candidate:\n",
        "                edit_prob = get_channel_probability(sent.split()[i], candidate)\n",
        "                print(f\"P({sent.split()[i]}|{candidate}): {edit_prob}\")      # test\n",
        "            for ngram in extract_ngrams(candidate_sentence, 2):\n",
        "                prior_prob *= get_lm_prob(\" \".join(ngram))\n",
        "                print(f\"{ngram}: {get_lm_prob(' '.join(ngram))}\")     # test\n",
        "            sent_prob[candidate_sentence] = (edit_prob * prior_prob)\n",
        "        # break     # test\n",
        "    return sent_prob"
      ],
      "metadata": {
        "id": "rxd5E4Lm9nR-"
      },
      "execution_count": null,
      "outputs": []
    },
    {
      "cell_type": "code",
      "source": [
        "# CANDIDATE WORDS STATUS\n",
        "sent = \"মাঝরি বৃষ্টির পূর্বাভাস রয়েছে\"\n",
        "prob = sentence_probability(sent, 1)"
      ],
      "metadata": {
        "colab": {
          "base_uri": "https://localhost:8080/"
        },
        "id": "ATVrxizt-Odi",
        "outputId": "5977eca8-0660-41d1-b8d9-c3e73552122e"
      },
      "execution_count": null,
      "outputs": [
        {
          "output_type": "stream",
          "name": "stdout",
          "text": [
            "= = = = = = = = = = = = = = = = = = = = = = = = = = = = = = \n",
            "মাঝির বৃষ্টির পূর্বাভাস রয়েছে\n",
            "P(মাঝরি|মাঝির): 1.08053935121716e-05\n",
            "('মাঝির', 'বৃষ্টির'): 1.3837358720736688e-09\n",
            "('বৃষ্টির', 'পূর্বাভাস'): 2.417338660152965e-09\n",
            "('পূর্বাভাস', 'রয়েছে'): 8.277517077940962e-10\n",
            "= = = = = = = = = = = = = = = = = = = = = = = = = = = = = = \n",
            "মাঝরি বৃষ্টির পূর্বাভাস রয়েছে\n",
            "('মাঝরি', 'বৃষ্টির'): 2.99104485238234e-11\n",
            "('বৃষ্টির', 'পূর্বাভাস'): 2.417338660152965e-09\n",
            "('পূর্বাভাস', 'রয়েছে'): 8.277517077940962e-10\n",
            "= = = = = = = = = = = = = = = = = = = = = = = = = = = = = = \n",
            "মাঝারি বৃষ্টির পূর্বাভাস রয়েছে\n",
            "P(মাঝরি|মাঝারি): 1.35067418902145e-06\n",
            "('মাঝারি', 'বৃষ্টির'): 3.282677353071633e-09\n",
            "('বৃষ্টির', 'পূর্বাভাস'): 2.417338660152965e-09\n",
            "('পূর্বাভাস', 'রয়েছে'): 8.277517077940962e-10\n",
            "= = = = = = = = = = = = = = = = = = = = = = = = = = = = = = \n",
            "মারি বৃষ্টির পূর্বাভাস রয়েছে\n",
            "P(মাঝরি|মারি): 0.0\n",
            "('মারি', 'বৃষ্টির'): 2.2994867772706185e-10\n",
            "('বৃষ্টির', 'পূর্বাভাস'): 2.417338660152965e-09\n",
            "('পূর্বাভাস', 'রয়েছে'): 8.277517077940962e-10\n",
            "= = = = = = = = = = = = = = = = = = = = = = = = = = = = = = \n",
            "মাঝি বৃষ্টির পূর্বাভাস রয়েছে\n",
            "P(মাঝরি|মাঝি): 0.0\n",
            "('মাঝি', 'বৃষ্টির'): 3.931685247796968e-09\n",
            "('বৃষ্টির', 'পূর্বাভাস'): 2.417338660152965e-09\n",
            "('পূর্বাভাস', 'রয়েছে'): 8.277517077940962e-10\n",
            "= = = = = = = = = = = = = = = = = = = = = = = = = = = = = = \n",
            "মাঝর বৃষ্টির পূর্বাভাস রয়েছে\n",
            "P(মাঝরি|মাঝর): 1.08053935121716e-05\n",
            "('মাঝর', 'বৃষ্টির'): 2.99104485238234e-11\n",
            "('বৃষ্টির', 'পূর্বাভাস'): 2.417338660152965e-09\n",
            "('পূর্বাভাস', 'রয়েছে'): 8.277517077940962e-10\n",
            "= = = = = = = = = = = = = = = = = = = = = = = = = = = = = = \n",
            "মাঝরি বিষ্টির পূর্বাভাস রয়েছে\n",
            "P(বৃষ্টির|বিষ্টির): 0.00025257607334701115\n",
            "('মাঝরি', 'বিষ্টির'): 1.4229156915986776e-13\n",
            "('বিষ্টির', 'পূর্বাভাস'): 1.1499891446629797e-11\n",
            "('পূর্বাভাস', 'রয়েছে'): 8.277517077940962e-10\n",
            "= = = = = = = = = = = = = = = = = = = = = = = = = = = = = = \n",
            "মাঝরি বৃণ্টির পূর্বাভাস রয়েছে\n",
            "P(বৃষ্টির|বৃণ্টির): 0.0\n",
            "('মাঝরি', 'বৃণ্টির'): 1.4229156915986776e-13\n",
            "('বৃণ্টির', 'পূর্বাভাস'): 1.1499891446629797e-11\n",
            "('পূর্বাভাস', 'রয়েছে'): 8.277517077940962e-10\n",
            "= = = = = = = = = = = = = = = = = = = = = = = = = = = = = = \n",
            "মাঝরি দৃষ্টির পূর্বাভাস রয়েছে\n",
            "P(বৃষ্টির|দৃষ্টির): 2.026011283532175e-05\n",
            "('মাঝরি', 'দৃষ্টির'): 9.79573193506942e-13\n",
            "('দৃষ্টির', 'পূর্বাভাস'): 7.916832638694045e-11\n",
            "('পূর্বাভাস', 'রয়েছে'): 8.277517077940962e-10\n",
            "= = = = = = = = = = = = = = = = = = = = = = = = = = = = = = \n",
            "মাঝরি বৃষ্টিই পূর্বাভাস রয়েছে\n",
            "P(বৃষ্টির|বৃষ্টিই): 6.75337094510725e-06\n",
            "('মাঝরি', 'বৃষ্টিই'): 2.1916836812603703e-13\n",
            "('বৃষ্টিই', 'পূর্বাভাস'): 1.771301319442675e-11\n",
            "('পূর্বাভাস', 'রয়েছে'): 8.277517077940962e-10\n",
            "= = = = = = = = = = = = = = = = = = = = = = = = = = = = = = \n",
            "মাঝরি বৃষ্টিও পূর্বাভাস রয়েছে\n",
            "P(বৃষ্টির|বৃষ্টিও): 1.35067418902145e-06\n",
            "('মাঝরি', 'বৃষ্টিও'): 6.365192613672073e-13\n",
            "('বৃষ্টিও', 'পূর্বাভাস'): 5.144298044241673e-11\n",
            "('পূর্বাভাস', 'রয়েছে'): 8.277517077940962e-10\n",
            "= = = = = = = = = = = = = = = = = = = = = = = = = = = = = = \n",
            "মাঝরি বৃষ্টি পূর্বাভাস রয়েছে\n",
            "P(বৃষ্টির|বৃষ্টি): 2.7013483780429e-05\n",
            "('মাঝরি', 'বৃষ্টি'): 4.3403866546988524e-11\n",
            "('বৃষ্টি', 'পূর্বাভাস'): 3.5078659726746e-09\n",
            "('পূর্বাভাস', 'রয়েছে'): 8.277517077940962e-10\n",
            "= = = = = = = = = = = = = = = = = = = = = = = = = = = = = = \n",
            "মাঝরি সৃষ্টির পূর্বাভাস রয়েছে\n",
            "P(বৃষ্টির|সৃষ্টির): 3.646820310357915e-05\n",
            "('মাঝরি', 'সৃষ্টির'): 2.0533626955894128e-11\n",
            "('সৃষ্টির', 'পূর্বাভাস'): 1.659511398971724e-09\n",
            "('পূর্বাভাস', 'রয়েছে'): 8.277517077940962e-10\n",
            "= = = = = = = = = = = = = = = = = = = = = = = = = = = = = = \n",
            "মাঝরি বৃষ্টির পূর্বাভাস রয়েছে\n",
            "('মাঝরি', 'বৃষ্টির'): 2.99104485238234e-11\n",
            "('বৃষ্টির', 'পূর্বাভাস'): 2.417338660152965e-09\n",
            "('পূর্বাভাস', 'রয়েছে'): 8.277517077940962e-10\n",
            "= = = = = = = = = = = = = = = = = = = = = = = = = = = = = = \n",
            "মাঝরি বৃষ্টিত পূর্বাভাস রয়েছে\n",
            "P(বৃষ্টির|বৃষ্টিত): 4.997494499379365e-05\n",
            "('মাঝরি', 'বৃষ্টিত'): 1.4229156915986776e-13\n",
            "('বৃষ্টিত', 'পূর্বাভাস'): 1.1499891446629797e-11\n",
            "('পূর্বাভাস', 'রয়েছে'): 8.277517077940962e-10\n",
            "= = = = = = = = = = = = = = = = = = = = = = = = = = = = = = \n",
            "মাঝরি বৃষ্টির পুর্বাভাস রয়েছে\n",
            "P(পূর্বাভাস|পুর্বাভাস): 0.00030795371509689064\n",
            "('মাঝরি', 'বৃষ্টির'): 2.99104485238234e-11\n",
            "('বৃষ্টির', 'পুর্বাভাস'): 4.607036264755112e-11\n",
            "('পুর্বাভাস', 'রয়েছে'): 1.5775539434673453e-11\n",
            "= = = = = = = = = = = = = = = = = = = = = = = = = = = = = = \n",
            "মাঝরি বৃষ্টির পূর্বাভাস রয়েছে\n",
            "('মাঝরি', 'বৃষ্টির'): 2.99104485238234e-11\n",
            "('বৃষ্টির', 'পূর্বাভাস'): 2.417338660152965e-09\n",
            "('পূর্বাভাস', 'রয়েছে'): 8.277517077940962e-10\n",
            "= = = = = = = = = = = = = = = = = = = = = = = = = = = = = = \n",
            "মাঝরি বৃষ্টির পূর্বাভাসে রয়েছে\n",
            "P(পূর্বাভাস|পূর্বাভাসে): 1.08053935121716e-05\n",
            "('মাঝরি', 'বৃষ্টির'): 2.99104485238234e-11\n",
            "('বৃষ্টির', 'পূর্বাভাসে'): 1.3116252616061328e-09\n",
            "('পূর্বাভাসে', 'রয়েছে'): 4.491303052306513e-10\n",
            "= = = = = = = = = = = = = = = = = = = = = = = = = = = = = = \n",
            "মাঝরি বৃষ্টির পূর্বাভাসই রয়েছে\n",
            "P(পূর্বাভাস|পূর্বাভাসই): 0.0\n",
            "('মাঝরি', 'বৃষ্টির'): 2.99104485238234e-11\n",
            "('বৃষ্টির', 'পূর্বাভাসই'): 2.99104485238234e-11\n",
            "('পূর্বাভাসই', 'রয়েছে'): 1.024201749411295e-11\n",
            "= = = = = = = = = = = = = = = = = = = = = = = = = = = = = = \n",
            "মাঝরি বৃষ্টির পূর্বাবাস রয়েছে\n",
            "P(পূর্বাভাস|পূর্বাবাস): 0.0001269633737680163\n",
            "('মাঝরি', 'বৃষ্টির'): 2.99104485238234e-11\n",
            "('বৃষ্টির', 'পূর্বাবাস'): 2.99104485238234e-11\n",
            "('পূর্বাবাস', 'রয়েছে'): 1.024201749411295e-11\n",
            "= = = = = = = = = = = = = = = = = = = = = = = = = = = = = = \n",
            "মাঝরি বৃষ্টির পূর্বভাস রয়েছে\n",
            "P(পূর্বাভাস|পূর্বভাস): 1.35067418902145e-05\n",
            "('মাঝরি', 'বৃষ্টির'): 2.99104485238234e-11\n",
            "('বৃষ্টির', 'পূর্বভাস'): 2.99104485238234e-11\n",
            "('পূর্বভাস', 'রয়েছে'): 1.024201749411295e-11\n",
            "= = = = = = = = = = = = = = = = = = = = = = = = = = = = = = \n",
            "মাঝরি বৃষ্টির পূর্বাভাসও রয়েছে\n",
            "P(পূর্বাভাস|পূর্বাভাসও): 2.7013483780429e-06\n",
            "('মাঝরি', 'বৃষ্টির'): 2.99104485238234e-11\n",
            "('বৃষ্টির', 'পূর্বাভাসও'): 8.57253532601733e-11\n",
            "('পূর্বাভাসও', 'রয়েছে'): 2.935430965137109e-11\n",
            "= = = = = = = = = = = = = = = = = = = = = = = = = = = = = = \n",
            "মাঝরি বৃষ্টির পূর্বাভাস রযেছে\n",
            "P(রয়েছে|রযেছে): 0.0\n",
            "('মাঝরি', 'বৃষ্টির'): 2.99104485238234e-11\n",
            "('বৃষ্টির', 'পূর্বাভাস'): 2.417338660152965e-09\n",
            "('পূর্বাভাস', 'রযেছে'): 1.0689370290678333e-10\n",
            "= = = = = = = = = = = = = = = = = = = = = = = = = = = = = = \n",
            "মাঝরি বৃষ্টির পূর্বাভাস রয়েছেন\n",
            "P(রয়েছে|রয়েছেন): 1.35067418902145e-05\n",
            "('মাঝরি', 'বৃষ্টির'): 2.99104485238234e-11\n",
            "('বৃষ্টির', 'পূর্বাভাস'): 2.417338660152965e-09\n",
            "('পূর্বাভাস', 'রয়েছেন'): 2.3627841735335005e-10\n",
            "= = = = = = = = = = = = = = = = = = = = = = = = = = = = = = \n",
            "মাঝরি বৃষ্টির পূর্বাভাস হয়েছে\n",
            "P(রয়েছে|হয়েছে): 1.35067418902145e-06\n",
            "('মাঝরি', 'বৃষ্টির'): 2.99104485238234e-11\n",
            "('বৃষ্টির', 'পূর্বাভাস'): 2.417338660152965e-09\n",
            "('পূর্বাভাস', 'হয়েছে'): 1.2528744225005691e-09\n",
            "= = = = = = = = = = = = = = = = = = = = = = = = = = = = = = \n",
            "মাঝরি বৃষ্টির পূর্বাভাস রয়েছে\n",
            "('মাঝরি', 'বৃষ্টির'): 2.99104485238234e-11\n",
            "('বৃষ্টির', 'পূর্বাভাস'): 2.417338660152965e-09\n",
            "('পূর্বাভাস', 'রয়েছে'): 8.277517077940962e-10\n"
          ]
        }
      ]
    },
    {
      "cell_type": "code",
      "source": [
        "sorted(prob.items(), key=lambda x: x[1], reverse=True)"
      ],
      "metadata": {
        "colab": {
          "base_uri": "https://localhost:8080/"
        },
        "id": "b3RFkNahMgsf",
        "outputId": "aabc67de-603e-4e41-d176-ffdc9ea83e90"
      },
      "execution_count": null,
      "outputs": [
        {
          "output_type": "execute_result",
          "data": {
            "text/plain": [
              "[('মাঝরি বৃষ্টির পূর্বাভাস রয়েছে', 5.685702266859855e-29),\n",
              " ('মাঝির বৃষ্টির পূর্বাভাস রয়েছে', 2.9917918214307036e-32),\n",
              " ('মাঝারি বৃষ্টির পূর্বাভাস রয়েছে', 8.871894788162864e-33),\n",
              " ('মাঝরি বৃষ্টি পূর্বাভাস রয়েছে', 3.404490235863123e-33),\n",
              " ('মাঝরি সৃষ্টির পূর্বাভাস রয়েছে', 1.0286327747965633e-33),\n",
              " ('মাঝর বৃষ্টির পূর্বাভাস রয়েছে', 6.466973724891247e-34),\n",
              " ('মাঝরি বৃষ্টির পূর্বাভাস রয়েছেন', 2.307464760258603e-34),\n",
              " ('মাঝরি বৃষ্টির পূর্বাভাসে রয়েছে', 1.9039066289874622e-34),\n",
              " ('মাঝরি বৃষ্টির পূর্বাভাস হয়েছে', 1.2235411136286852e-34),\n",
              " ('মাঝরি বৃষ্টির পুর্বাভাস রয়েছে', 6.694439526030102e-36),\n",
              " ('মাঝরি দৃষ্টির পূর্বাভাস রয়েছে', 1.3005597260045802e-36),\n",
              " ('মাঝরি বৃষ্টির পূর্বাবাস রয়েছে', 1.1633484585835033e-36),\n",
              " ('মাঝরি বিষ্টির পূর্বাভাস রয়েছে', 3.4210955357459406e-37),\n",
              " ('মাঝরি বৃষ্টির পূর্বাভাসও রয়েছে', 2.033221421032108e-37),\n",
              " ('মাঝরি বৃষ্টির পূর্বভাস রয়েছে', 1.2376047431739396e-37),\n",
              " ('মাঝরি বৃষ্টিত পূর্বাভাস রয়েছে', 6.769012557358279e-38),\n",
              " ('মাঝরি বৃষ্টিও পূর্বাভাস রয়েছে', 3.660904152292405e-38),\n",
              " ('মাঝরি বৃষ্টিই পূর্বাভাস রয়েছে', 2.170156283449115e-38),\n",
              " ('মারি বৃষ্টির পূর্বাভাস রয়েছে', 0.0),\n",
              " ('মাঝি বৃষ্টির পূর্বাভাস রয়েছে', 0.0),\n",
              " ('মাঝরি বৃণ্টির পূর্বাভাস রয়েছে', 0.0),\n",
              " ('মাঝরি বৃষ্টির পূর্বাভাসই রয়েছে', 0.0),\n",
              " ('মাঝরি বৃষ্টির পূর্বাভাস রযেছে', 0.0)]"
            ]
          },
          "metadata": {},
          "execution_count": 176
        }
      ]
    },
    {
      "cell_type": "markdown",
      "source": [
        "## 7. Testing"
      ],
      "metadata": {
        "id": "oHcXO5fNvEXU"
      }
    },
    {
      "cell_type": "code",
      "source": [
        "print(\"hello world\")"
      ],
      "metadata": {
        "colab": {
          "base_uri": "https://localhost:8080/"
        },
        "id": "E0iiADkEvGRX",
        "outputId": "ef3a5c17-b986-433f-c85b-b304b0b8641d"
      },
      "execution_count": null,
      "outputs": [
        {
          "output_type": "stream",
          "name": "stdout",
          "text": [
            "hello world\n"
          ]
        }
      ]
    },
    {
      "cell_type": "code",
      "source": [
        "get_lm_prob(\"আমি শুভাশীষ\")"
      ],
      "metadata": {
        "colab": {
          "base_uri": "https://localhost:8080/"
        },
        "id": "57xIJ-VCOrvf",
        "outputId": "14aa9a8b-dd47-41b8-8522-f83e5feb75bb"
      },
      "execution_count": null,
      "outputs": [
        {
          "output_type": "execute_result",
          "data": {
            "text/plain": [
              "8.397126160390632e-10"
            ]
          },
          "metadata": {},
          "execution_count": 179
        }
      ]
    },
    {
      "cell_type": "code",
      "source": [
        "get_lm_prob(\"পূর্বাভাস রয়েছে\")"
      ],
      "metadata": {
        "colab": {
          "base_uri": "https://localhost:8080/"
        },
        "id": "g9ekXZY4O3Be",
        "outputId": "021f1ecb-5bcc-4ec8-8350-550b5fee62d9"
      },
      "execution_count": null,
      "outputs": [
        {
          "output_type": "execute_result",
          "data": {
            "text/plain": [
              "8.277517077940962e-10"
            ]
          },
          "metadata": {},
          "execution_count": 180
        }
      ]
    },
    {
      "cell_type": "code",
      "source": [],
      "metadata": {
        "id": "E32kEFJ2PPfX"
      },
      "execution_count": null,
      "outputs": []
    }
  ]
}